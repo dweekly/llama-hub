{
 "cells": [
  {
   "cell_type": "markdown",
   "id": "f57b1d26",
   "metadata": {},
   "source": [
    "# Bored Llama: BoardDocs in LLaMA Index!\n",
    "\n",
    "This is a fun experiment to see if we can crawl a BoardDocs site to index it for LangChain fun."
   ]
  },
  {
   "cell_type": "code",
   "execution_count": 23,
   "id": "b5b2600e",
   "metadata": {},
   "outputs": [],
   "source": [
    "import sys\n",
    "from llama_index import download_loader\n",
    "\n",
    "# Use the temporary / staging location to exercise the loader before first checkin lands\n",
    "BoardDocsReader = download_loader(\"BoardDocsReader\", loader_hub_url=\"https://raw.githubusercontent.com/dweekly/llama-hub/boarddocs/loader_hub\")\n",
    "loader = BoardDocsReader(site=\"ca/redwood\", committee_id=\"A4EP6J588C05\")"
   ]
  },
  {
   "cell_type": "code",
   "execution_count": null,
   "id": "148a0c75",
   "metadata": {},
   "outputs": [],
   "source": [
    "# now the data is loaded, query it\n",
    "from llama_index import GPTSimpleVectorIndex\n",
    "\n",
    "documents = loader.load_data()\n",
    "\n",
    "index = GPTSimpleVectorIndex(documents)"
   ]
  }
 ],
 "metadata": {
  "kernelspec": {
   "display_name": "Python 3 (ipykernel)",
   "language": "python",
   "name": "python3"
  },
  "language_info": {
   "codemirror_mode": {
    "name": "ipython",
    "version": 3
   },
   "file_extension": ".py",
   "mimetype": "text/x-python",
   "name": "python",
   "nbconvert_exporter": "python",
   "pygments_lexer": "ipython3",
   "version": "3.11.3"
  }
 },
 "nbformat": 4,
 "nbformat_minor": 5
}
