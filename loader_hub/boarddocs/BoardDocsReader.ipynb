{
 "cells": [
  {
   "cell_type": "markdown",
   "id": "9453a4d3",
   "metadata": {},
   "source": [
    "# Bored Llama: BoardDocs in LLaMA Index!\n",
    "\n",
    "This is a fun experiment to see if we can crawl a BoardDocs site to index it for LangChain fun."
   ]
  },
  {
   "cell_type": "code",
   "execution_count": 23,
   "id": "8153c48c",
   "metadata": {},
   "outputs": [],
   "source": [
    "import sys\n",
    "from llama_index import download_loader\n",
    "\n",
    "BoardDocsReader = download_loader(\"BoardDocsReader\", loader_hub_url=\"https://raw.githubusercontent.com/dweekly/llama-hub/boarddocs/loader_hub\")\n",
    "loader = BoardDocsReader(site=\"ca/redwood\", committee_id=\"A4EP6J588C05\")"
   ]
  },
  {
   "cell_type": "code",
   "execution_count": null,
   "id": "4dcc769d",
   "metadata": {},
   "outputs": [],
   "source": []
  },
  {
   "cell_type": "code",
   "execution_count": null,
   "id": "6b2ff519",
   "metadata": {},
   "outputs": [],
   "source": []
  }
 ],
 "metadata": {
  "kernelspec": {
   "display_name": "Python 3 (ipykernel)",
   "language": "python",
   "name": "python3"
  },
  "language_info": {
   "codemirror_mode": {
    "name": "ipython",
    "version": 3
   },
   "file_extension": ".py",
   "mimetype": "text/x-python",
   "name": "python",
   "nbconvert_exporter": "python",
   "pygments_lexer": "ipython3",
   "version": "3.11.3"
  }
 },
 "nbformat": 4,
 "nbformat_minor": 5
}
